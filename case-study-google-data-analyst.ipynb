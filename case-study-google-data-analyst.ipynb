{
 "cells": [
  {
   "cell_type": "code",
   "execution_count": 1,
   "id": "8358d8b1",
   "metadata": {
    "_cell_guid": "b1076dfc-b9ad-4769-8c92-a6c4dae69d19",
    "_uuid": "8f2839f25d086af736a60e9eeb907d3b93b6e0e5",
    "execution": {
     "iopub.execute_input": "2024-01-26T02:10:44.263408Z",
     "iopub.status.busy": "2024-01-26T02:10:44.262974Z",
     "iopub.status.idle": "2024-01-26T02:10:44.794538Z",
     "shell.execute_reply": "2024-01-26T02:10:44.793305Z"
    },
    "papermill": {
     "duration": 0.551153,
     "end_time": "2024-01-26T02:10:44.797333",
     "exception": false,
     "start_time": "2024-01-26T02:10:44.246180",
     "status": "completed"
    },
    "tags": []
   },
   "outputs": [
    {
     "name": "stdout",
     "output_type": "stream",
     "text": [
      "/kaggle/input/google-data-analyst-case-study-cyclist/202101-divvy-tripdata/202101-divvy-tripdata.csv\n",
      "/kaggle/input/google-data-analyst-case-study-cyclist/202104-divvy-tripdata/202104-divvy-tripdata.csv\n",
      "/kaggle/input/google-data-analyst-case-study-cyclist/202106-divvy-tripdata/202106-divvy-tripdata.csv\n",
      "/kaggle/input/google-data-analyst-case-study-cyclist/202105-divvy-tripdata/202105-divvy-tripdata.csv\n",
      "/kaggle/input/google-data-analyst-case-study-cyclist/202107-divvy-tripdata/202107-divvy-tripdata.csv\n",
      "/kaggle/input/google-data-analyst-case-study-cyclist/202111-divvy-tripdata/202111-divvy-tripdata.csv\n",
      "/kaggle/input/google-data-analyst-case-study-cyclist/202102-divvy-tripdata/202102-divvy-tripdata.csv\n",
      "/kaggle/input/google-data-analyst-case-study-cyclist/202103-divvy-tripdata/202103-divvy-tripdata.csv\n",
      "/kaggle/input/google-data-analyst-case-study-cyclist/202108-divvy-tripdata/202108-divvy-tripdata.csv\n",
      "/kaggle/input/google-data-analyst-case-study-cyclist/202110-divvy-tripdata/202110-divvy-tripdata.csv\n",
      "/kaggle/input/google-data-analyst-case-study-cyclist/202109-divvy-tripdata/202109-divvy-tripdata.csv\n",
      "/kaggle/input/google-data-analyst-case-study-cyclist/202112-divvy-tripdata/202112-divvy-tripdata.csv\n"
     ]
    }
   ],
   "source": [
    "# This Python 3 environment comes with many helpful analytics libraries installed\n",
    "# It is defined by the kaggle/python Docker image: https://github.com/kaggle/docker-python\n",
    "# For example, here's several helpful packages to load\n",
    "\n",
    "import numpy as np # linear algebra\n",
    "import pandas as pd # data processing, CSV file I/O (e.g. pd.read_csv)\n",
    "\n",
    "# Input data files are available in the read-only \"../input/\" directory\n",
    "# For example, running this (by clicking run or pressing Shift+Enter) will list all files under the input directory\n",
    "\n",
    "import os\n",
    "for dirname, _, filenames in os.walk('/kaggle/input'):\n",
    "    for filename in filenames:\n",
    "        print(os.path.join(dirname, filename))\n",
    "\n",
    "# You can write up to 20GB to the current directory (/kaggle/working/) that gets preserved as output when you create a version using \"Save & Run All\" \n",
    "# You can also write temporary files to /kaggle/temp/, but they won't be saved outside of the current session"
   ]
  },
  {
   "cell_type": "markdown",
   "id": "fcad437c",
   "metadata": {
    "papermill": {
     "duration": 0.013954,
     "end_time": "2024-01-26T02:10:44.825685",
     "exception": false,
     "start_time": "2024-01-26T02:10:44.811731",
     "status": "completed"
    },
    "tags": []
   },
   "source": [
    "# Introduction\n",
    "### Welcome to the Cyclistic bike-share analysis case study! In this case study, you work for a fictional company, Cyclistic, along with some key team members. In order to answer the business questions, follow the steps of the data analysis process: Ask, Prepare, Process, Analyze, Share, and Act. Along the way, the Case Study Roadmap tables — including guiding questions and key tasks — will help you stay on the right path.\n",
    "# Scenario\n",
    "### You are a junior data analyst working on the marketing analyst team at Cyclistic, a bike-share company in Chicago. The director of marketing believes the company’s future success depends on maximizing the number of annual memberships. Therefore, your team wants to understand how casual riders and annual members use Cyclistic bikes differently. From these insights, your team will design a new marketing strategy to convert casual riders into annual members. But first, Cyclistic executives must approve your recommendations, so they must be backed up with compelling data insights and professional data visualizations."
   ]
  },
  {
   "cell_type": "markdown",
   "id": "9a54d057",
   "metadata": {
    "papermill": {
     "duration": 0.014122,
     "end_time": "2024-01-26T02:10:44.854030",
     "exception": false,
     "start_time": "2024-01-26T02:10:44.839908",
     "status": "completed"
    },
    "tags": []
   },
   "source": [
    "# 1. Ask\n",
    "\n",
    "## How do annual members and casual riders use Cyclistic bikes differently?"
   ]
  },
  {
   "cell_type": "markdown",
   "id": "57d42555",
   "metadata": {
    "papermill": {
     "duration": 0.013896,
     "end_time": "2024-01-26T02:10:44.882425",
     "exception": false,
     "start_time": "2024-01-26T02:10:44.868529",
     "status": "completed"
    },
    "tags": []
   },
   "source": [
    "# 2. Prepare"
   ]
  },
  {
   "cell_type": "markdown",
   "id": "5ce57e7a",
   "metadata": {
    "papermill": {
     "duration": 0.014593,
     "end_time": "2024-01-26T02:10:44.911210",
     "exception": false,
     "start_time": "2024-01-26T02:10:44.896617",
     "status": "completed"
    },
    "tags": []
   },
   "source": [
    "#### Import all the spreadsheet data and combined them"
   ]
  },
  {
   "cell_type": "code",
   "execution_count": 2,
   "id": "353d99eb",
   "metadata": {
    "execution": {
     "iopub.execute_input": "2024-01-26T02:10:44.943605Z",
     "iopub.status.busy": "2024-01-26T02:10:44.942783Z",
     "iopub.status.idle": "2024-01-26T02:11:27.068875Z",
     "shell.execute_reply": "2024-01-26T02:11:27.067483Z"
    },
    "papermill": {
     "duration": 42.146415,
     "end_time": "2024-01-26T02:11:27.072020",
     "exception": false,
     "start_time": "2024-01-26T02:10:44.925605",
     "status": "completed"
    },
    "tags": []
   },
   "outputs": [],
   "source": [
    "import os\n",
    "\n",
    "# Directory containing the CSV files\n",
    "directory = '/kaggle/input/google-data-analyst-case-study-cyclist/'\n",
    "\n",
    "# List of file names\n",
    "file_names = [\n",
    "    '202101-divvy-tripdata/202101-divvy-tripdata.csv',\n",
    "    '202104-divvy-tripdata/202104-divvy-tripdata.csv',\n",
    "    '202106-divvy-tripdata/202106-divvy-tripdata.csv',\n",
    "    '202105-divvy-tripdata/202105-divvy-tripdata.csv',\n",
    "    '202107-divvy-tripdata/202107-divvy-tripdata.csv',\n",
    "    '202111-divvy-tripdata/202111-divvy-tripdata.csv',\n",
    "    '202102-divvy-tripdata/202102-divvy-tripdata.csv',\n",
    "    '202103-divvy-tripdata/202103-divvy-tripdata.csv',\n",
    "    '202108-divvy-tripdata/202108-divvy-tripdata.csv',\n",
    "    '202110-divvy-tripdata/202110-divvy-tripdata.csv',\n",
    "    '202109-divvy-tripdata/202109-divvy-tripdata.csv',\n",
    "    '202112-divvy-tripdata/202112-divvy-tripdata.csv'\n",
    "]\n",
    "\n",
    "\n",
    "# Initialize an empty list to store file paths\n",
    "file_list = []\n",
    "\n",
    "# Loop through all file names\n",
    "for filename in file_names:\n",
    "    file_path = os.path.join(directory, filename)  # Get the full path of the file\n",
    "    file_list.append(file_path)  # Add the file path to the list\n",
    "\n",
    "# Import CSV files\n",
    "dfs = []\n",
    "for file in file_list:\n",
    "    df = pd.read_csv(file)\n",
    "    dfs.append(df)\n",
    "\n",
    "# Combine dataframes if needed\n",
    "combined_df = pd.concat(dfs, ignore_index=True)"
   ]
  },
  {
   "cell_type": "markdown",
   "id": "cdabb7c5",
   "metadata": {
    "papermill": {
     "duration": 0.015189,
     "end_time": "2024-01-26T02:11:27.102391",
     "exception": false,
     "start_time": "2024-01-26T02:11:27.087202",
     "status": "completed"
    },
    "tags": []
   },
   "source": [
    "#### Look at the infromation and the columns of the data frame"
   ]
  },
  {
   "cell_type": "code",
   "execution_count": 3,
   "id": "26dc1a7d",
   "metadata": {
    "execution": {
     "iopub.execute_input": "2024-01-26T02:11:27.133094Z",
     "iopub.status.busy": "2024-01-26T02:11:27.132706Z",
     "iopub.status.idle": "2024-01-26T02:11:27.163604Z",
     "shell.execute_reply": "2024-01-26T02:11:27.162618Z"
    },
    "papermill": {
     "duration": 0.049169,
     "end_time": "2024-01-26T02:11:27.166007",
     "exception": false,
     "start_time": "2024-01-26T02:11:27.116838",
     "status": "completed"
    },
    "tags": []
   },
   "outputs": [
    {
     "name": "stdout",
     "output_type": "stream",
     "text": [
      "<class 'pandas.core.frame.DataFrame'>\n",
      "RangeIndex: 5595063 entries, 0 to 5595062\n",
      "Data columns (total 13 columns):\n",
      " #   Column              Dtype  \n",
      "---  ------              -----  \n",
      " 0   ride_id             object \n",
      " 1   rideable_type       object \n",
      " 2   started_at          object \n",
      " 3   ended_at            object \n",
      " 4   start_station_name  object \n",
      " 5   start_station_id    object \n",
      " 6   end_station_name    object \n",
      " 7   end_station_id      object \n",
      " 8   start_lat           float64\n",
      " 9   start_lng           float64\n",
      " 10  end_lat             float64\n",
      " 11  end_lng             float64\n",
      " 12  member_casual       object \n",
      "dtypes: float64(4), object(9)\n",
      "memory usage: 554.9+ MB\n",
      "None\n"
     ]
    }
   ],
   "source": [
    "# View basic information about the DataFrame\n",
    "print(combined_df.info())\n"
   ]
  },
  {
   "cell_type": "code",
   "execution_count": 4,
   "id": "a99bea51",
   "metadata": {
    "execution": {
     "iopub.execute_input": "2024-01-26T02:11:27.196664Z",
     "iopub.status.busy": "2024-01-26T02:11:27.196243Z",
     "iopub.status.idle": "2024-01-26T02:11:27.210891Z",
     "shell.execute_reply": "2024-01-26T02:11:27.209531Z"
    },
    "papermill": {
     "duration": 0.033062,
     "end_time": "2024-01-26T02:11:27.213462",
     "exception": false,
     "start_time": "2024-01-26T02:11:27.180400",
     "status": "completed"
    },
    "tags": []
   },
   "outputs": [
    {
     "name": "stdout",
     "output_type": "stream",
     "text": [
      "            ride_id  rideable_type           started_at             ended_at  \\\n",
      "0  E19E6F1B8D4C42ED  electric_bike  2021-01-23 16:14:19  2021-01-23 16:24:44   \n",
      "1  DC88F20C2C55F27F  electric_bike  2021-01-27 18:43:08  2021-01-27 18:47:12   \n",
      "2  EC45C94683FE3F27  electric_bike  2021-01-21 22:35:54  2021-01-21 22:37:14   \n",
      "3  4FA453A75AE377DB  electric_bike  2021-01-07 13:31:13  2021-01-07 13:42:55   \n",
      "4  BE5E8EB4E7263A0B  electric_bike  2021-01-23 02:24:02  2021-01-23 02:24:45   \n",
      "\n",
      "           start_station_name start_station_id end_station_name  \\\n",
      "0  California Ave & Cortez St            17660              NaN   \n",
      "1  California Ave & Cortez St            17660              NaN   \n",
      "2  California Ave & Cortez St            17660              NaN   \n",
      "3  California Ave & Cortez St            17660              NaN   \n",
      "4  California Ave & Cortez St            17660              NaN   \n",
      "\n",
      "  end_station_id  start_lat  start_lng  end_lat  end_lng member_casual  \n",
      "0            NaN  41.900341 -87.696743    41.89   -87.72        member  \n",
      "1            NaN  41.900333 -87.696707    41.90   -87.69        member  \n",
      "2            NaN  41.900313 -87.696643    41.90   -87.70        member  \n",
      "3            NaN  41.900399 -87.696662    41.92   -87.69        member  \n",
      "4            NaN  41.900326 -87.696697    41.90   -87.70        casual  \n"
     ]
    }
   ],
   "source": [
    "\n",
    "# View the first few rows of the DataFrame\n",
    "print(combined_df.head())"
   ]
  },
  {
   "cell_type": "markdown",
   "id": "48788b23",
   "metadata": {
    "papermill": {
     "duration": 0.014209,
     "end_time": "2024-01-26T02:11:27.242190",
     "exception": false,
     "start_time": "2024-01-26T02:11:27.227981",
     "status": "completed"
    },
    "tags": []
   },
   "source": [
    "# 3. Process"
   ]
  },
  {
   "cell_type": "markdown",
   "id": "93fd30dc",
   "metadata": {
    "papermill": {
     "duration": 0.014166,
     "end_time": "2024-01-26T02:11:27.270819",
     "exception": false,
     "start_time": "2024-01-26T02:11:27.256653",
     "status": "completed"
    },
    "tags": []
   },
   "source": [
    "#### Clean the data and create new columns "
   ]
  },
  {
   "cell_type": "code",
   "execution_count": 5,
   "id": "f855606d",
   "metadata": {
    "execution": {
     "iopub.execute_input": "2024-01-26T02:11:27.302597Z",
     "iopub.status.busy": "2024-01-26T02:11:27.301318Z",
     "iopub.status.idle": "2024-01-26T02:11:32.335568Z",
     "shell.execute_reply": "2024-01-26T02:11:32.334600Z"
    },
    "papermill": {
     "duration": 5.053259,
     "end_time": "2024-01-26T02:11:32.338585",
     "exception": false,
     "start_time": "2024-01-26T02:11:27.285326",
     "status": "completed"
    },
    "tags": []
   },
   "outputs": [
    {
     "name": "stdout",
     "output_type": "stream",
     "text": [
      "Number of null values in each column:\n",
      "ride_id                    0\n",
      "rideable_type              0\n",
      "started_at                 0\n",
      "ended_at                   0\n",
      "start_station_name    690809\n",
      "start_station_id      690806\n",
      "end_station_name      739170\n",
      "end_station_id        739170\n",
      "start_lat                  0\n",
      "start_lng                  0\n",
      "end_lat                 4771\n",
      "end_lng                 4771\n",
      "member_casual              0\n",
      "dtype: int64\n"
     ]
    }
   ],
   "source": [
    "# Check for null values in the DataFrame\n",
    "null_values = combined_df.isnull().sum()\n",
    "\n",
    "# Print the number of null values in each column\n",
    "print(\"Number of null values in each column:\")\n",
    "print(null_values)"
   ]
  },
  {
   "cell_type": "markdown",
   "id": "275cc5fa",
   "metadata": {
    "papermill": {
     "duration": 0.016316,
     "end_time": "2024-01-26T02:11:32.435603",
     "exception": false,
     "start_time": "2024-01-26T02:11:32.419287",
     "status": "completed"
    },
    "tags": []
   },
   "source": [
    "#### Even there are null values in the data frame pandas do not detect them, it's possible that the missing values are not represented as NaN but rather as some other placeholder, such as empty strings or other non-null values. We can try a different approach to identify missing values. We can check for other common representations of missing values, such as empty strings or specific placeholders, and then count them accordingly."
   ]
  },
  {
   "cell_type": "code",
   "execution_count": 6,
   "id": "fe842105",
   "metadata": {
    "execution": {
     "iopub.execute_input": "2024-01-26T02:11:32.467044Z",
     "iopub.status.busy": "2024-01-26T02:11:32.466612Z",
     "iopub.status.idle": "2024-01-26T02:11:40.319684Z",
     "shell.execute_reply": "2024-01-26T02:11:40.318451Z"
    },
    "papermill": {
     "duration": 7.87186,
     "end_time": "2024-01-26T02:11:40.322456",
     "exception": false,
     "start_time": "2024-01-26T02:11:32.450596",
     "status": "completed"
    },
    "tags": []
   },
   "outputs": [
    {
     "name": "stdout",
     "output_type": "stream",
     "text": [
      "Count of empty strings in each column:\n",
      "ride_id               0\n",
      "rideable_type         0\n",
      "started_at            0\n",
      "ended_at              0\n",
      "start_station_name    0\n",
      "start_station_id      0\n",
      "end_station_name      0\n",
      "end_station_id        0\n",
      "start_lat             0\n",
      "start_lng             0\n",
      "end_lat               0\n",
      "end_lng               0\n",
      "member_casual         0\n",
      "dtype: int64\n"
     ]
    }
   ],
   "source": [
    "# Count empty strings in each column\n",
    "empty_string_count = (combined_df == '').sum()\n",
    "\n",
    "# Print the count of empty strings in each column\n",
    "print(\"Count of empty strings in each column:\")\n",
    "print(empty_string_count)"
   ]
  },
  {
   "cell_type": "markdown",
   "id": "4ad6fc1f",
   "metadata": {
    "papermill": {
     "duration": 0.014471,
     "end_time": "2024-01-26T02:11:40.352030",
     "exception": false,
     "start_time": "2024-01-26T02:11:40.337559",
     "status": "completed"
    },
    "tags": []
   },
   "source": [
    "#### There are no empty strings, so there can be anaother placeholder. We can replace those place holders using NaN"
   ]
  },
  {
   "cell_type": "code",
   "execution_count": 7,
   "id": "dab0d7fd",
   "metadata": {
    "execution": {
     "iopub.execute_input": "2024-01-26T02:11:40.384373Z",
     "iopub.status.busy": "2024-01-26T02:11:40.383568Z",
     "iopub.status.idle": "2024-01-26T02:11:53.607087Z",
     "shell.execute_reply": "2024-01-26T02:11:53.605719Z"
    },
    "papermill": {
     "duration": 13.242642,
     "end_time": "2024-01-26T02:11:53.609980",
     "exception": false,
     "start_time": "2024-01-26T02:11:40.367338",
     "status": "completed"
    },
    "tags": []
   },
   "outputs": [
    {
     "name": "stdout",
     "output_type": "stream",
     "text": [
      "Count of NaN values in each column:\n",
      "ride_id                    0\n",
      "rideable_type              0\n",
      "started_at                 0\n",
      "ended_at                   0\n",
      "start_station_name    690809\n",
      "start_station_id      690806\n",
      "end_station_name      739170\n",
      "end_station_id        739170\n",
      "start_lat                  0\n",
      "start_lng                  0\n",
      "end_lat                 4771\n",
      "end_lng                 4771\n",
      "member_casual              0\n",
      "dtype: int64\n"
     ]
    }
   ],
   "source": [
    "# Replace specific placeholders with NaN\n",
    "combined_df.replace('NaN', pd.NA, inplace=True)\n",
    "\n",
    "# Count NaN values in each column\n",
    "nan_count = combined_df.isna().sum()\n",
    "\n",
    "# Print the count of NaN values in each column\n",
    "print(\"Count of NaN values in each column:\")\n",
    "print(nan_count)"
   ]
  },
  {
   "cell_type": "code",
   "execution_count": 8,
   "id": "a2f8830d",
   "metadata": {
    "execution": {
     "iopub.execute_input": "2024-01-26T02:11:53.643799Z",
     "iopub.status.busy": "2024-01-26T02:11:53.642881Z",
     "iopub.status.idle": "2024-01-26T02:11:53.652788Z",
     "shell.execute_reply": "2024-01-26T02:11:53.652009Z"
    },
    "papermill": {
     "duration": 0.029894,
     "end_time": "2024-01-26T02:11:53.654914",
     "exception": false,
     "start_time": "2024-01-26T02:11:53.625020",
     "status": "completed"
    },
    "tags": []
   },
   "outputs": [
    {
     "data": {
      "text/plain": [
       "0                   NaN\n",
       "1                   NaN\n",
       "2                   NaN\n",
       "3                   NaN\n",
       "4                   NaN\n",
       "               ...     \n",
       "5595058             NaN\n",
       "5595059    KA1503000043\n",
       "5595060    TA1305000006\n",
       "5595061             NaN\n",
       "5595062    TA1305000006\n",
       "Name: end_station_id, Length: 5595063, dtype: object"
      ]
     },
     "execution_count": 8,
     "metadata": {},
     "output_type": "execute_result"
    }
   ],
   "source": [
    "combined_df[\"end_station_id\"]"
   ]
  },
  {
   "cell_type": "markdown",
   "id": "143034ed",
   "metadata": {
    "papermill": {
     "duration": 0.014721,
     "end_time": "2024-01-26T02:11:53.684731",
     "exception": false,
     "start_time": "2024-01-26T02:11:53.670010",
     "status": "completed"
    },
    "tags": []
   },
   "source": [
    "#### Above clearly shows there are 4588302 entries in the end station_id but in the data frame there are 5595062 entries so clearly there is missing values in the data frame. Lets just look at each file seperately without combining them"
   ]
  },
  {
   "cell_type": "code",
   "execution_count": 9,
   "id": "371af9b0",
   "metadata": {
    "execution": {
     "iopub.execute_input": "2024-01-26T02:11:53.716842Z",
     "iopub.status.busy": "2024-01-26T02:11:53.716431Z",
     "iopub.status.idle": "2024-01-26T02:12:28.022267Z",
     "shell.execute_reply": "2024-01-26T02:12:28.021079Z"
    },
    "papermill": {
     "duration": 34.325116,
     "end_time": "2024-01-26T02:12:28.024887",
     "exception": false,
     "start_time": "2024-01-26T02:11:53.699771",
     "status": "completed"
    },
    "tags": []
   },
   "outputs": [
    {
     "name": "stdout",
     "output_type": "stream",
     "text": [
      "NaN counts for file: /kaggle/input/google-data-analyst-case-study-cyclist/202101-divvy-tripdata/202101-divvy-tripdata.csv\n",
      "ride_id                   0\n",
      "rideable_type             0\n",
      "started_at                0\n",
      "ended_at                  0\n",
      "start_station_name     8625\n",
      "start_station_id       8625\n",
      "end_station_name      10277\n",
      "end_station_id        10277\n",
      "start_lat                 0\n",
      "start_lng                 0\n",
      "end_lat                 103\n",
      "end_lng                 103\n",
      "member_casual             0\n",
      "dtype: int64\n",
      "\n",
      "\n",
      "NaN counts for file: /kaggle/input/google-data-analyst-case-study-cyclist/202104-divvy-tripdata/202104-divvy-tripdata.csv\n",
      "ride_id                   0\n",
      "rideable_type             0\n",
      "started_at                0\n",
      "ended_at                  0\n",
      "start_station_name    26056\n",
      "start_station_id      26056\n",
      "end_station_name      28174\n",
      "end_station_id        28174\n",
      "start_lat                 0\n",
      "start_lng                 0\n",
      "end_lat                 267\n",
      "end_lng                 267\n",
      "member_casual             0\n",
      "dtype: int64\n",
      "\n",
      "\n",
      "NaN counts for file: /kaggle/input/google-data-analyst-case-study-cyclist/202106-divvy-tripdata/202106-divvy-tripdata.csv\n",
      "ride_id                   0\n",
      "rideable_type             0\n",
      "started_at                0\n",
      "ended_at                  0\n",
      "start_station_name    80093\n",
      "start_station_id      80093\n",
      "end_station_name      86387\n",
      "end_station_id        86387\n",
      "start_lat                 0\n",
      "start_lng                 0\n",
      "end_lat                 717\n",
      "end_lng                 717\n",
      "member_casual             0\n",
      "dtype: int64\n",
      "\n",
      "\n",
      "NaN counts for file: /kaggle/input/google-data-analyst-case-study-cyclist/202105-divvy-tripdata/202105-divvy-tripdata.csv\n",
      "ride_id                   0\n",
      "rideable_type             0\n",
      "started_at                0\n",
      "ended_at                  0\n",
      "start_station_name    53744\n",
      "start_station_id      53744\n",
      "end_station_name      58194\n",
      "end_station_id        58194\n",
      "start_lat                 0\n",
      "start_lng                 0\n",
      "end_lat                 452\n",
      "end_lng                 452\n",
      "member_casual             0\n",
      "dtype: int64\n",
      "\n",
      "\n",
      "NaN counts for file: /kaggle/input/google-data-analyst-case-study-cyclist/202107-divvy-tripdata/202107-divvy-tripdata.csv\n",
      "ride_id                   0\n",
      "rideable_type             0\n",
      "started_at                0\n",
      "ended_at                  0\n",
      "start_station_name    87263\n",
      "start_station_id      87262\n",
      "end_station_name      93158\n",
      "end_station_id        93158\n",
      "start_lat                 0\n",
      "start_lng                 0\n",
      "end_lat                 731\n",
      "end_lng                 731\n",
      "member_casual             0\n",
      "dtype: int64\n",
      "\n",
      "\n",
      "NaN counts for file: /kaggle/input/google-data-analyst-case-study-cyclist/202111-divvy-tripdata/202111-divvy-tripdata.csv\n",
      "ride_id                   0\n",
      "rideable_type             0\n",
      "started_at                0\n",
      "ended_at                  0\n",
      "start_station_name    75290\n",
      "start_station_id      75290\n",
      "end_station_name      79187\n",
      "end_station_id        79187\n",
      "start_lat                 0\n",
      "start_lng                 0\n",
      "end_lat                 191\n",
      "end_lng                 191\n",
      "member_casual             0\n",
      "dtype: int64\n",
      "\n",
      "\n",
      "NaN counts for file: /kaggle/input/google-data-analyst-case-study-cyclist/202102-divvy-tripdata/202102-divvy-tripdata.csv\n",
      "ride_id                  0\n",
      "rideable_type            0\n",
      "started_at               0\n",
      "ended_at                 0\n",
      "start_station_name    4046\n",
      "start_station_id      4046\n",
      "end_station_name      5358\n",
      "end_station_id        5358\n",
      "start_lat                0\n",
      "start_lng                0\n",
      "end_lat                214\n",
      "end_lng                214\n",
      "member_casual            0\n",
      "dtype: int64\n",
      "\n",
      "\n",
      "NaN counts for file: /kaggle/input/google-data-analyst-case-study-cyclist/202103-divvy-tripdata/202103-divvy-tripdata.csv\n",
      "ride_id                   0\n",
      "rideable_type             0\n",
      "started_at                0\n",
      "ended_at                  0\n",
      "start_station_name    14848\n",
      "start_station_id      14848\n",
      "end_station_name      16727\n",
      "end_station_id        16727\n",
      "start_lat                 0\n",
      "start_lng                 0\n",
      "end_lat                 167\n",
      "end_lng                 167\n",
      "member_casual             0\n",
      "dtype: int64\n",
      "\n",
      "\n",
      "NaN counts for file: /kaggle/input/google-data-analyst-case-study-cyclist/202108-divvy-tripdata/202108-divvy-tripdata.csv\n",
      "ride_id                   0\n",
      "rideable_type             0\n",
      "started_at                0\n",
      "ended_at                  0\n",
      "start_station_name    88458\n",
      "start_station_id      88458\n",
      "end_station_name      94115\n",
      "end_station_id        94115\n",
      "start_lat                 0\n",
      "start_lng                 0\n",
      "end_lat                 706\n",
      "end_lng                 706\n",
      "member_casual             0\n",
      "dtype: int64\n",
      "\n",
      "\n",
      "NaN counts for file: /kaggle/input/google-data-analyst-case-study-cyclist/202110-divvy-tripdata/202110-divvy-tripdata.csv\n",
      "ride_id                    0\n",
      "rideable_type              0\n",
      "started_at                 0\n",
      "ended_at                   0\n",
      "start_station_name    108210\n",
      "start_station_id      108210\n",
      "end_station_name      114834\n",
      "end_station_id        114834\n",
      "start_lat                  0\n",
      "start_lng                  0\n",
      "end_lat                  484\n",
      "end_lng                  484\n",
      "member_casual              0\n",
      "dtype: int64\n",
      "\n",
      "\n",
      "NaN counts for file: /kaggle/input/google-data-analyst-case-study-cyclist/202109-divvy-tripdata/202109-divvy-tripdata.csv\n",
      "ride_id                   0\n",
      "rideable_type             0\n",
      "started_at                0\n",
      "ended_at                  0\n",
      "start_station_name    93113\n",
      "start_station_id      93111\n",
      "end_station_name      99261\n",
      "end_station_id        99261\n",
      "start_lat                 0\n",
      "start_lng                 0\n",
      "end_lat                 595\n",
      "end_lng                 595\n",
      "member_casual             0\n",
      "dtype: int64\n",
      "\n",
      "\n",
      "NaN counts for file: /kaggle/input/google-data-analyst-case-study-cyclist/202112-divvy-tripdata/202112-divvy-tripdata.csv\n",
      "ride_id                   0\n",
      "rideable_type             0\n",
      "started_at                0\n",
      "ended_at                  0\n",
      "start_station_name    51063\n",
      "start_station_id      51063\n",
      "end_station_name      53498\n",
      "end_station_id        53498\n",
      "start_lat                 0\n",
      "start_lng                 0\n",
      "end_lat                 144\n",
      "end_lng                 144\n",
      "member_casual             0\n",
      "dtype: int64\n",
      "\n",
      "\n"
     ]
    }
   ],
   "source": [
    "# List of file paths\n",
    "file_paths = [\n",
    "    \"/kaggle/input/google-data-analyst-case-study-cyclist/202101-divvy-tripdata/202101-divvy-tripdata.csv\",\n",
    "    \"/kaggle/input/google-data-analyst-case-study-cyclist/202104-divvy-tripdata/202104-divvy-tripdata.csv\",\n",
    "    \"/kaggle/input/google-data-analyst-case-study-cyclist/202106-divvy-tripdata/202106-divvy-tripdata.csv\",\n",
    "    \"/kaggle/input/google-data-analyst-case-study-cyclist/202105-divvy-tripdata/202105-divvy-tripdata.csv\",\n",
    "    \"/kaggle/input/google-data-analyst-case-study-cyclist/202107-divvy-tripdata/202107-divvy-tripdata.csv\",\n",
    "    \"/kaggle/input/google-data-analyst-case-study-cyclist/202111-divvy-tripdata/202111-divvy-tripdata.csv\",\n",
    "    \"/kaggle/input/google-data-analyst-case-study-cyclist/202102-divvy-tripdata/202102-divvy-tripdata.csv\",\n",
    "    \"/kaggle/input/google-data-analyst-case-study-cyclist/202103-divvy-tripdata/202103-divvy-tripdata.csv\",\n",
    "    \"/kaggle/input/google-data-analyst-case-study-cyclist/202108-divvy-tripdata/202108-divvy-tripdata.csv\",\n",
    "    \"/kaggle/input/google-data-analyst-case-study-cyclist/202110-divvy-tripdata/202110-divvy-tripdata.csv\",\n",
    "    \"/kaggle/input/google-data-analyst-case-study-cyclist/202109-divvy-tripdata/202109-divvy-tripdata.csv\",\n",
    "    \"/kaggle/input/google-data-analyst-case-study-cyclist/202112-divvy-tripdata/202112-divvy-tripdata.csv\"\n",
    "]\n",
    "\n",
    "# List to store filtered DataFrames\n",
    "filtered_dfs = []\n",
    "\n",
    "# Loop through each file path\n",
    "for file_path in file_paths:\n",
    "    # Load CSV file\n",
    "    df = pd.read_csv(file_path)\n",
    "    \n",
    "    # Count NaN values in each column\n",
    "    nan_counts = df.isna().sum()\n",
    "    \n",
    "    # Display the count of NaN values for each file\n",
    "    print(\"NaN counts for file:\", file_path)\n",
    "    print(nan_counts)\n",
    "    print(\"\\n\")  # Add a new line for separation"
   ]
  },
  {
   "cell_type": "markdown",
   "id": "8e67707c",
   "metadata": {
    "papermill": {
     "duration": 0.016082,
     "end_time": "2024-01-26T02:12:28.057288",
     "exception": false,
     "start_time": "2024-01-26T02:12:28.041206",
     "status": "completed"
    },
    "tags": []
   },
   "source": [
    "#### Before combining them drop NaN from each csv file"
   ]
  },
  {
   "cell_type": "code",
   "execution_count": 10,
   "id": "40c761ba",
   "metadata": {
    "execution": {
     "iopub.execute_input": "2024-01-26T02:12:28.092815Z",
     "iopub.status.busy": "2024-01-26T02:12:28.091625Z",
     "iopub.status.idle": "2024-01-26T02:13:04.523303Z",
     "shell.execute_reply": "2024-01-26T02:13:04.522041Z"
    },
    "papermill": {
     "duration": 36.470182,
     "end_time": "2024-01-26T02:13:04.543868",
     "exception": false,
     "start_time": "2024-01-26T02:12:28.073686",
     "status": "completed"
    },
    "tags": []
   },
   "outputs": [
    {
     "name": "stdout",
     "output_type": "stream",
     "text": [
      "                  ride_id  rideable_type           started_at  \\\n",
      "0        B9F73448DFBE0D45   classic_bike  2021-01-24 19:15:38   \n",
      "1        457C7F4B5D3DA135  electric_bike  2021-01-23 12:57:38   \n",
      "2        57C750326F9FDABE  electric_bike  2021-01-09 15:28:04   \n",
      "3        4D518C65E338D070  electric_bike  2021-01-09 15:28:57   \n",
      "4        9D08A3AFF410474D   classic_bike  2021-01-24 15:56:59   \n",
      "...                   ...            ...                  ...   \n",
      "4588297  E06135F650553F21  electric_bike  2021-12-07 15:55:37   \n",
      "4588298  8DF0DBB049906332  electric_bike  2021-12-01 16:50:52   \n",
      "4588299  CF407BBC3B9FAD63  electric_bike  2021-12-06 19:37:50   \n",
      "4588300  60BB69EBF5440E92  electric_bike  2021-12-02 08:57:04   \n",
      "4588301  37AC57E34B2E7E97   classic_bike  2021-12-13 08:45:32   \n",
      "\n",
      "                    ended_at           start_station_name start_station_id  \\\n",
      "0        2021-01-24 19:22:51   California Ave & Cortez St            17660   \n",
      "1        2021-01-23 13:02:10   California Ave & Cortez St            17660   \n",
      "2        2021-01-09 15:37:51   California Ave & Cortez St            17660   \n",
      "3        2021-01-09 15:37:54   California Ave & Cortez St            17660   \n",
      "4        2021-01-24 16:07:08   California Ave & Cortez St            17660   \n",
      "...                      ...                          ...              ...   \n",
      "4588297  2021-12-07 16:00:17        Canal St & Madison St            13341   \n",
      "4588298  2021-12-01 16:55:18        Canal St & Madison St            13341   \n",
      "4588299  2021-12-06 19:44:51        Canal St & Madison St            13341   \n",
      "4588300  2021-12-02 09:05:21        Canal St & Madison St            13341   \n",
      "4588301  2021-12-13 08:49:09  Michigan Ave & Jackson Blvd     TA1309000002   \n",
      "\n",
      "                   end_station_name end_station_id  start_lat  start_lng  \\\n",
      "0            Wood St & Augusta Blvd            657  41.900363 -87.696704   \n",
      "1        California Ave & North Ave          13258  41.900406 -87.696733   \n",
      "2            Wood St & Augusta Blvd            657  41.900374 -87.696688   \n",
      "3            Wood St & Augusta Blvd            657  41.900379 -87.696716   \n",
      "4            Wood St & Augusta Blvd            657  41.900363 -87.696704   \n",
      "...                             ...            ...        ...        ...   \n",
      "4588297   Desplaines St & Kinzie St   TA1306000003  41.881372 -87.640042   \n",
      "4588298   Desplaines St & Kinzie St   TA1306000003  41.881999 -87.639265   \n",
      "4588299    Kingsbury St & Kinzie St   KA1503000043  41.882123 -87.640053   \n",
      "4588300     Dearborn St & Monroe St   TA1305000006  41.881956 -87.639955   \n",
      "4588301     Dearborn St & Monroe St   TA1305000006  41.877850 -87.624080   \n",
      "\n",
      "           end_lat    end_lng member_casual  \n",
      "0        41.899181 -87.672200        member  \n",
      "1        41.910435 -87.696890        member  \n",
      "2        41.899180 -87.672178        casual  \n",
      "3        41.899149 -87.672177        casual  \n",
      "4        41.899181 -87.672200        casual  \n",
      "...            ...        ...           ...  \n",
      "4588297  41.888456 -87.644336        casual  \n",
      "4588298  41.888415 -87.644342        casual  \n",
      "4588299  41.889106 -87.638862        member  \n",
      "4588300  41.880254 -87.629603        member  \n",
      "4588301  41.881320 -87.629521        member  \n",
      "\n",
      "[4588302 rows x 13 columns]\n"
     ]
    }
   ],
   "source": [
    "# List to store filtered DataFrames\n",
    "filtered_dfs = []\n",
    "\n",
    "\n",
    "# Loop through each file path\n",
    "for file_path in file_paths:\n",
    "    # Load CSV file\n",
    "    df = pd.read_csv(file_path)\n",
    "    \n",
    "    # Drop NaN rows\n",
    "    df_filtered = df.dropna()\n",
    "    \n",
    "    # Append filtered DataFrame to the list\n",
    "    filtered_dfs.append(df_filtered)\n",
    "\n",
    "# Combine filtered DataFrames\n",
    "combined_df = pd.concat(filtered_dfs, ignore_index=True)\n",
    "\n",
    "# Display the combined DataFrame\n",
    "print(combined_df)"
   ]
  },
  {
   "cell_type": "markdown",
   "id": "31670e21",
   "metadata": {
    "papermill": {
     "duration": 0.017472,
     "end_time": "2024-01-26T02:13:04.578423",
     "exception": false,
     "start_time": "2024-01-26T02:13:04.560951",
     "status": "completed"
    },
    "tags": []
   },
   "source": [
    "# 4. Analyze "
   ]
  },
  {
   "cell_type": "markdown",
   "id": "efb2831e",
   "metadata": {
    "papermill": {
     "duration": 0.016583,
     "end_time": "2024-01-26T02:13:04.612392",
     "exception": false,
     "start_time": "2024-01-26T02:13:04.595809",
     "status": "completed"
    },
    "tags": []
   },
   "source": [
    "#### Calculate the total ride time and create a new ride_time column in minutes"
   ]
  },
  {
   "cell_type": "code",
   "execution_count": 11,
   "id": "6dad3949",
   "metadata": {
    "execution": {
     "iopub.execute_input": "2024-01-26T02:13:04.647379Z",
     "iopub.status.busy": "2024-01-26T02:13:04.646963Z",
     "iopub.status.idle": "2024-01-26T02:13:08.767932Z",
     "shell.execute_reply": "2024-01-26T02:13:08.766132Z"
    },
    "papermill": {
     "duration": 4.141602,
     "end_time": "2024-01-26T02:13:08.770553",
     "exception": false,
     "start_time": "2024-01-26T02:13:04.628951",
     "status": "completed"
    },
    "tags": []
   },
   "outputs": [
    {
     "name": "stdout",
     "output_type": "stream",
     "text": [
      "            ride_id  rideable_type          started_at            ended_at  \\\n",
      "0  B9F73448DFBE0D45   classic_bike 2021-01-24 19:15:38 2021-01-24 19:22:51   \n",
      "1  457C7F4B5D3DA135  electric_bike 2021-01-23 12:57:38 2021-01-23 13:02:10   \n",
      "2  57C750326F9FDABE  electric_bike 2021-01-09 15:28:04 2021-01-09 15:37:51   \n",
      "3  4D518C65E338D070  electric_bike 2021-01-09 15:28:57 2021-01-09 15:37:54   \n",
      "4  9D08A3AFF410474D   classic_bike 2021-01-24 15:56:59 2021-01-24 16:07:08   \n",
      "\n",
      "           start_station_name start_station_id            end_station_name  \\\n",
      "0  California Ave & Cortez St            17660      Wood St & Augusta Blvd   \n",
      "1  California Ave & Cortez St            17660  California Ave & North Ave   \n",
      "2  California Ave & Cortez St            17660      Wood St & Augusta Blvd   \n",
      "3  California Ave & Cortez St            17660      Wood St & Augusta Blvd   \n",
      "4  California Ave & Cortez St            17660      Wood St & Augusta Blvd   \n",
      "\n",
      "  end_station_id  start_lat  start_lng    end_lat    end_lng member_casual  \\\n",
      "0            657  41.900363 -87.696704  41.899181 -87.672200        member   \n",
      "1          13258  41.900406 -87.696733  41.910435 -87.696890        member   \n",
      "2            657  41.900374 -87.696688  41.899180 -87.672178        casual   \n",
      "3            657  41.900379 -87.696716  41.899149 -87.672177        casual   \n",
      "4            657  41.900363 -87.696704  41.899181 -87.672200        casual   \n",
      "\n",
      "   ride_time  \n",
      "0   7.216667  \n",
      "1   4.533333  \n",
      "2   9.783333  \n",
      "3   8.950000  \n",
      "4  10.150000  \n"
     ]
    }
   ],
   "source": [
    "# Convert 'started_at' and 'ended_at' columns to datetime\n",
    "combined_df['started_at'] = pd.to_datetime(combined_df['started_at'])\n",
    "combined_df['ended_at'] = pd.to_datetime(combined_df['ended_at'])\n",
    "\n",
    "# Calculate time difference in minutes\n",
    "combined_df['ride_time'] = (combined_df['ended_at'] - combined_df['started_at']).dt.total_seconds() / 60\n",
    "\n",
    "# Display the modified DataFrame\n",
    "print(combined_df.head())"
   ]
  },
  {
   "cell_type": "markdown",
   "id": "4c98ca76",
   "metadata": {
    "papermill": {
     "duration": 0.016543,
     "end_time": "2024-01-26T02:13:08.804403",
     "exception": false,
     "start_time": "2024-01-26T02:13:08.787860",
     "status": "completed"
    },
    "tags": []
   },
   "source": [
    "#### The maximum, minimum and average ride time"
   ]
  },
  {
   "cell_type": "code",
   "execution_count": 12,
   "id": "0a6e10b9",
   "metadata": {
    "execution": {
     "iopub.execute_input": "2024-01-26T02:13:08.841788Z",
     "iopub.status.busy": "2024-01-26T02:13:08.841076Z",
     "iopub.status.idle": "2024-01-26T02:13:08.882339Z",
     "shell.execute_reply": "2024-01-26T02:13:08.880819Z"
    },
    "papermill": {
     "duration": 0.062625,
     "end_time": "2024-01-26T02:13:08.885321",
     "exception": false,
     "start_time": "2024-01-26T02:13:08.822696",
     "status": "completed"
    },
    "tags": []
   },
   "outputs": [
    {
     "name": "stdout",
     "output_type": "stream",
     "text": [
      "Maximum time difference in minutes: 55944.15\n",
      "Minimum time difference in minutes: -55.9\n",
      "Maximum time difference in minutes: 21.81062794035788\n"
     ]
    }
   ],
   "source": [
    "# Get maximum value from time_difference_minutes column\n",
    "max_time_difference = combined_df['ride_time'].max()\n",
    "\n",
    "print(\"Maximum time difference in minutes:\", max_time_difference)\n",
    "\n",
    "# Get minimum value from time_difference_minutes column\n",
    "min_time_difference = combined_df['ride_time'].min()\n",
    "\n",
    "print(\"Minimum time difference in minutes:\", min_time_difference)\n",
    "\n",
    "# Get average value from time_difference_minutes column\n",
    "ave_time_difference = combined_df['ride_time'].mean()\n",
    "\n",
    "print(\"Maximum time difference in minutes:\", ave_time_difference)\n"
   ]
  },
  {
   "cell_type": "code",
   "execution_count": 13,
   "id": "2fd3f4dc",
   "metadata": {
    "execution": {
     "iopub.execute_input": "2024-01-26T02:13:08.922170Z",
     "iopub.status.busy": "2024-01-26T02:13:08.921500Z",
     "iopub.status.idle": "2024-01-26T02:13:09.262715Z",
     "shell.execute_reply": "2024-01-26T02:13:09.260571Z"
    },
    "papermill": {
     "duration": 0.363007,
     "end_time": "2024-01-26T02:13:09.265681",
     "exception": false,
     "start_time": "2024-01-26T02:13:08.902674",
     "status": "completed"
    },
    "tags": []
   },
   "outputs": [
    {
     "name": "stdout",
     "output_type": "stream",
     "text": [
      "Outliers:                   ride_id  rideable_type          started_at  \\\n",
      "123      0EDD906628861314   classic_bike 2021-01-22 20:54:49   \n",
      "140      33A754F67BD337A7   classic_bike 2021-01-13 14:29:33   \n",
      "166      2CE7583737A818C4   classic_bike 2021-01-04 14:03:49   \n",
      "333      795E03AF09CE93F8   classic_bike 2021-01-21 11:13:36   \n",
      "334      E9B4DB03F6F7226C  electric_bike 2021-01-20 11:29:49   \n",
      "...                   ...            ...                 ...   \n",
      "4588203  A5CC5626F489E435  electric_bike 2021-12-19 15:13:52   \n",
      "4588247  16D502978941DBE8   classic_bike 2021-12-31 09:12:14   \n",
      "4588250  6023529519AB5300   classic_bike 2021-12-09 17:27:37   \n",
      "4588271  A46E250C7B3A426E   classic_bike 2021-12-12 13:00:29   \n",
      "4588277  1D17355FC340FB36   classic_bike 2021-12-12 11:54:58   \n",
      "\n",
      "                   ended_at           start_station_name start_station_id  \\\n",
      "123     2021-01-22 21:41:26   Indiana Ave & Roosevelt Rd           SL-005   \n",
      "140     2021-01-13 15:17:50   Kedzie Ave & Milwaukee Ave            13085   \n",
      "166     2021-01-04 15:18:26        Rush St & Superior St            15530   \n",
      "333     2021-01-21 12:16:25     University Ave & 57th St     KA1503000071   \n",
      "334     2021-01-20 12:18:00     University Ave & 57th St     KA1503000071   \n",
      "...                     ...                          ...              ...   \n",
      "4588203 2021-12-19 16:12:41    Desplaines St & Kinzie St     TA1306000003   \n",
      "4588247 2021-12-31 09:58:04        Michigan Ave & Oak St            13042   \n",
      "4588250 2021-12-09 19:31:20       Dearborn St & Adams St     TA1305000005   \n",
      "4588271 2021-12-12 14:26:20        Michigan Ave & Oak St            13042   \n",
      "4588277 2021-12-12 13:28:07  Sheridan Rd & Noyes St (NU)              604   \n",
      "\n",
      "                     end_station_name end_station_id  start_lat  start_lng  \\\n",
      "123      Sheridan Rd & Irving Park Rd          13063  41.867888 -87.623041   \n",
      "140         Franklin St & Chicago Ave          13017  41.929567 -87.707857   \n",
      "166             Dearborn St & Erie St          13045  41.895765 -87.625908   \n",
      "333           Streeter Dr & Grand Ave          13022  41.791478 -87.599861   \n",
      "334           Streeter Dr & Grand Ave          13022  41.791494 -87.599959   \n",
      "...                               ...            ...        ...        ...   \n",
      "4588203      Kingsbury St & Kinzie St   KA1503000043  41.888593 -87.644346   \n",
      "4588247         Michigan Ave & Oak St          13042  41.900960 -87.623777   \n",
      "4588250       Dearborn St & Monroe St   TA1305000006  41.879356 -87.629791   \n",
      "4588271         Michigan Ave & Oak St          13042  41.900960 -87.623777   \n",
      "4588277   Sheridan Rd & Noyes St (NU)            604  42.058239 -87.677432   \n",
      "\n",
      "           end_lat    end_lng member_casual   ride_time  \n",
      "123      41.954245 -87.654406        member   46.616667  \n",
      "140      41.896747 -87.635668        member   48.283333  \n",
      "166      41.893992 -87.629318        casual   74.616667  \n",
      "333      41.892278 -87.612043        member   62.816667  \n",
      "334      41.808967 -87.587008        member   48.183333  \n",
      "...            ...        ...           ...         ...  \n",
      "4588203  41.889177 -87.638506        casual   58.816667  \n",
      "4588247  41.900960 -87.623777        member   45.833333  \n",
      "4588250  41.881320 -87.629521        casual  123.716667  \n",
      "4588271  41.900960 -87.623777        casual   85.850000  \n",
      "4588277  42.058239 -87.677432        casual   93.150000  \n",
      "\n",
      "[348455 rows x 14 columns]\n"
     ]
    }
   ],
   "source": [
    "# Assuming 'column_name' is the column you want to analyze\n",
    "Q1 = combined_df['ride_time'].quantile(0.25)\n",
    "Q3 = combined_df['ride_time'].quantile(0.75)\n",
    "IQR = Q3 - Q1\n",
    "\n",
    "lower_bound = Q1 - 1.5 * IQR\n",
    "upper_bound = Q3 + 1.5 * IQR\n",
    "\n",
    "outliers = combined_df[(combined_df['ride_time'] < lower_bound) | (combined_df['ride_time'] > upper_bound)]\n",
    "\n",
    "print(\"Outliers:\", outliers)"
   ]
  },
  {
   "cell_type": "markdown",
   "id": "5d4fd28b",
   "metadata": {
    "papermill": {
     "duration": 0.018143,
     "end_time": "2024-01-26T02:13:09.301574",
     "exception": false,
     "start_time": "2024-01-26T02:13:09.283431",
     "status": "completed"
    },
    "tags": []
   },
   "source": [
    "#### Drop outliers form the data frame"
   ]
  },
  {
   "cell_type": "code",
   "execution_count": 14,
   "id": "32574eae",
   "metadata": {
    "execution": {
     "iopub.execute_input": "2024-01-26T02:13:09.339192Z",
     "iopub.status.busy": "2024-01-26T02:13:09.337949Z",
     "iopub.status.idle": "2024-01-26T02:13:10.437121Z",
     "shell.execute_reply": "2024-01-26T02:13:10.435759Z"
    },
    "papermill": {
     "duration": 1.120924,
     "end_time": "2024-01-26T02:13:10.440245",
     "exception": false,
     "start_time": "2024-01-26T02:13:09.319321",
     "status": "completed"
    },
    "tags": []
   },
   "outputs": [],
   "source": [
    "# 'outliers' is the DataFrame containing the outliers\n",
    "outlier_indices = outliers.index\n",
    "\n",
    "# Drop outliers from the original DataFrame\n",
    "combined_df = combined_df.drop(outlier_indices)"
   ]
  },
  {
   "cell_type": "markdown",
   "id": "a0b28f39",
   "metadata": {
    "papermill": {
     "duration": 0.018053,
     "end_time": "2024-01-26T02:13:10.476615",
     "exception": false,
     "start_time": "2024-01-26T02:13:10.458562",
     "status": "completed"
    },
    "tags": []
   },
   "source": [
    "#### Find started week and ended week columns and drop started_at and ended_at column"
   ]
  },
  {
   "cell_type": "code",
   "execution_count": 15,
   "id": "ef1c7838",
   "metadata": {
    "execution": {
     "iopub.execute_input": "2024-01-26T02:13:10.512987Z",
     "iopub.status.busy": "2024-01-26T02:13:10.512544Z",
     "iopub.status.idle": "2024-01-26T02:14:05.970036Z",
     "shell.execute_reply": "2024-01-26T02:14:05.968465Z"
    },
    "papermill": {
     "duration": 55.493232,
     "end_time": "2024-01-26T02:14:05.986851",
     "exception": false,
     "start_time": "2024-01-26T02:13:10.493619",
     "status": "completed"
    },
    "tags": []
   },
   "outputs": [
    {
     "name": "stdout",
     "output_type": "stream",
     "text": [
      "                  ride_id  rideable_type          started_at  \\\n",
      "0        B9F73448DFBE0D45   classic_bike 2021-01-24 19:15:38   \n",
      "1        457C7F4B5D3DA135  electric_bike 2021-01-23 12:57:38   \n",
      "2        57C750326F9FDABE  electric_bike 2021-01-09 15:28:04   \n",
      "3        4D518C65E338D070  electric_bike 2021-01-09 15:28:57   \n",
      "4        9D08A3AFF410474D   classic_bike 2021-01-24 15:56:59   \n",
      "...                   ...            ...                 ...   \n",
      "4588297  E06135F650553F21  electric_bike 2021-12-07 15:55:37   \n",
      "4588298  8DF0DBB049906332  electric_bike 2021-12-01 16:50:52   \n",
      "4588299  CF407BBC3B9FAD63  electric_bike 2021-12-06 19:37:50   \n",
      "4588300  60BB69EBF5440E92  electric_bike 2021-12-02 08:57:04   \n",
      "4588301  37AC57E34B2E7E97   classic_bike 2021-12-13 08:45:32   \n",
      "\n",
      "                   ended_at           start_station_name start_station_id  \\\n",
      "0       2021-01-24 19:22:51   California Ave & Cortez St            17660   \n",
      "1       2021-01-23 13:02:10   California Ave & Cortez St            17660   \n",
      "2       2021-01-09 15:37:51   California Ave & Cortez St            17660   \n",
      "3       2021-01-09 15:37:54   California Ave & Cortez St            17660   \n",
      "4       2021-01-24 16:07:08   California Ave & Cortez St            17660   \n",
      "...                     ...                          ...              ...   \n",
      "4588297 2021-12-07 16:00:17        Canal St & Madison St            13341   \n",
      "4588298 2021-12-01 16:55:18        Canal St & Madison St            13341   \n",
      "4588299 2021-12-06 19:44:51        Canal St & Madison St            13341   \n",
      "4588300 2021-12-02 09:05:21        Canal St & Madison St            13341   \n",
      "4588301 2021-12-13 08:49:09  Michigan Ave & Jackson Blvd     TA1309000002   \n",
      "\n",
      "                   end_station_name end_station_id  start_lat  start_lng  \\\n",
      "0            Wood St & Augusta Blvd            657  41.900363 -87.696704   \n",
      "1        California Ave & North Ave          13258  41.900406 -87.696733   \n",
      "2            Wood St & Augusta Blvd            657  41.900374 -87.696688   \n",
      "3            Wood St & Augusta Blvd            657  41.900379 -87.696716   \n",
      "4            Wood St & Augusta Blvd            657  41.900363 -87.696704   \n",
      "...                             ...            ...        ...        ...   \n",
      "4588297   Desplaines St & Kinzie St   TA1306000003  41.881372 -87.640042   \n",
      "4588298   Desplaines St & Kinzie St   TA1306000003  41.881999 -87.639265   \n",
      "4588299    Kingsbury St & Kinzie St   KA1503000043  41.882123 -87.640053   \n",
      "4588300     Dearborn St & Monroe St   TA1305000006  41.881956 -87.639955   \n",
      "4588301     Dearborn St & Monroe St   TA1305000006  41.877850 -87.624080   \n",
      "\n",
      "           end_lat    end_lng member_casual  ride_time  started_week_of_month  \\\n",
      "0        41.899181 -87.672200        member   7.216667                      4   \n",
      "1        41.910435 -87.696890        member   4.533333                      4   \n",
      "2        41.899180 -87.672178        casual   9.783333                      2   \n",
      "3        41.899149 -87.672177        casual   8.950000                      2   \n",
      "4        41.899181 -87.672200        casual  10.150000                      4   \n",
      "...            ...        ...           ...        ...                    ...   \n",
      "4588297  41.888456 -87.644336        casual   4.666667                      2   \n",
      "4588298  41.888415 -87.644342        casual   4.433333                      1   \n",
      "4588299  41.889106 -87.638862        member   7.016667                      2   \n",
      "4588300  41.880254 -87.629603        member   8.283333                      1   \n",
      "4588301  41.881320 -87.629521        member   3.616667                      3   \n",
      "\n",
      "         ended_week_of_month  \n",
      "0                          4  \n",
      "1                          4  \n",
      "2                          2  \n",
      "3                          2  \n",
      "4                          4  \n",
      "...                      ...  \n",
      "4588297                    2  \n",
      "4588298                    1  \n",
      "4588299                    2  \n",
      "4588300                    1  \n",
      "4588301                    3  \n",
      "\n",
      "[4239847 rows x 16 columns]\n"
     ]
    }
   ],
   "source": [
    "# Function to calculate week of the month\n",
    "def week_of_month(dt):\n",
    "    first_day = dt.replace(day=1)\n",
    "    dom = dt.day\n",
    "    adjusted_dom = dom + first_day.weekday()\n",
    "    return (adjusted_dom - 1) // 7 + 1\n",
    "\n",
    "# Convert 'started_at' and 'ended_at' columns to datetime\n",
    "combined_df['started_at'] = pd.to_datetime(combined_df['started_at'])\n",
    "combined_df['ended_at'] = pd.to_datetime(combined_df['ended_at'])\n",
    "\n",
    "# Calculate week of the month\n",
    "combined_df['started_week_of_month'] = combined_df['started_at'].apply(week_of_month)\n",
    "combined_df['ended_week_of_month'] = combined_df['ended_at'].apply(week_of_month)\n",
    "\n",
    "\n",
    "# Display the modified DataFrame\n",
    "print(combined_df)"
   ]
  },
  {
   "cell_type": "markdown",
   "id": "eada5c26",
   "metadata": {
    "papermill": {
     "duration": 0.016741,
     "end_time": "2024-01-26T02:14:06.020709",
     "exception": false,
     "start_time": "2024-01-26T02:14:06.003968",
     "status": "completed"
    },
    "tags": []
   },
   "source": [
    "#### Only select columns ride_id,rideable_type, start_station_id, member_casual, ride_time and started_week_of_month"
   ]
  },
  {
   "cell_type": "code",
   "execution_count": 16,
   "id": "2e08d44b",
   "metadata": {
    "execution": {
     "iopub.execute_input": "2024-01-26T02:14:06.058926Z",
     "iopub.status.busy": "2024-01-26T02:14:06.058535Z",
     "iopub.status.idle": "2024-01-26T02:14:06.384333Z",
     "shell.execute_reply": "2024-01-26T02:14:06.382847Z"
    },
    "papermill": {
     "duration": 0.349566,
     "end_time": "2024-01-26T02:14:06.387334",
     "exception": false,
     "start_time": "2024-01-26T02:14:06.037768",
     "status": "completed"
    },
    "tags": []
   },
   "outputs": [
    {
     "name": "stdout",
     "output_type": "stream",
     "text": [
      "            ride_id  rideable_type start_station_id member_casual  ride_time  \\\n",
      "0  B9F73448DFBE0D45   classic_bike            17660        member   7.216667   \n",
      "1  457C7F4B5D3DA135  electric_bike            17660        member   4.533333   \n",
      "2  57C750326F9FDABE  electric_bike            17660        casual   9.783333   \n",
      "3  4D518C65E338D070  electric_bike            17660        casual   8.950000   \n",
      "4  9D08A3AFF410474D   classic_bike            17660        casual  10.150000   \n",
      "\n",
      "   started_week_of_month          started_at  \n",
      "0                      4 2021-01-24 19:15:38  \n",
      "1                      4 2021-01-23 12:57:38  \n",
      "2                      2 2021-01-09 15:28:04  \n",
      "3                      2 2021-01-09 15:28:57  \n",
      "4                      4 2021-01-24 15:56:59  \n"
     ]
    }
   ],
   "source": [
    "df=combined_df[['ride_id', 'rideable_type', 'start_station_id', 'member_casual', 'ride_time', 'started_week_of_month','started_at']]\n",
    "print(df.head(5))"
   ]
  },
  {
   "cell_type": "markdown",
   "id": "2d2f50a6",
   "metadata": {
    "papermill": {
     "duration": 0.017041,
     "end_time": "2024-01-26T02:14:06.421970",
     "exception": false,
     "start_time": "2024-01-26T02:14:06.404929",
     "status": "completed"
    },
    "tags": []
   },
   "source": [
    "# 5. Share\n"
   ]
  },
  {
   "cell_type": "markdown",
   "id": "df346a1c",
   "metadata": {
    "papermill": {
     "duration": 0.017213,
     "end_time": "2024-01-26T02:14:06.456597",
     "exception": false,
     "start_time": "2024-01-26T02:14:06.439384",
     "status": "completed"
    },
    "tags": []
   },
   "source": [
    "### Rideable Type Distribution: \n",
    "\n",
    "#### Visualize the distribution of different rideable types (classic bike, electric bike, etc.) used by members and casual riders. This can help understand the popularity of each type among different user groups."
   ]
  },
  {
   "cell_type": "code",
   "execution_count": 17,
   "id": "e77bd840",
   "metadata": {
    "execution": {
     "iopub.execute_input": "2024-01-26T02:14:06.495019Z",
     "iopub.status.busy": "2024-01-26T02:14:06.493395Z",
     "iopub.status.idle": "2024-01-26T02:14:07.859960Z",
     "shell.execute_reply": "2024-01-26T02:14:07.858662Z"
    },
    "papermill": {
     "duration": 1.388864,
     "end_time": "2024-01-26T02:14:07.862877",
     "exception": false,
     "start_time": "2024-01-26T02:14:06.474013",
     "status": "completed"
    },
    "tags": []
   },
   "outputs": [],
   "source": [
    "import matplotlib.pyplot as plt\n",
    "import seaborn as sns"
   ]
  },
  {
   "cell_type": "code",
   "execution_count": 18,
   "id": "a0570999",
   "metadata": {
    "execution": {
     "iopub.execute_input": "2024-01-26T02:14:07.899651Z",
     "iopub.status.busy": "2024-01-26T02:14:07.899187Z",
     "iopub.status.idle": "2024-01-26T02:14:17.102678Z",
     "shell.execute_reply": "2024-01-26T02:14:17.101764Z"
    },
    "papermill": {
     "duration": 9.224846,
     "end_time": "2024-01-26T02:14:17.105160",
     "exception": false,
     "start_time": "2024-01-26T02:14:07.880314",
     "status": "completed"
    },
    "tags": []
   },
   "outputs": [
    {
     "data": {
      "image/png": "[encoded data removed]",
      "text/plain": [
       "<Figure size 800x600 with 1 Axes>"
      ]
     },
     "metadata": {},
     "output_type": "display_data"
    }
   ],
   "source": [
    "# Rideable Type Distribution\n",
    "plt.figure(figsize=(8, 6))\n",
    "sns.countplot(x='rideable_type', hue='member_casual', data=df)\n",
    "plt.title('Rideable Type Distribution by User Type')\n",
    "plt.xlabel('Rideable Type')\n",
    "plt.ylabel('Count')\n",
    "plt.show()"
   ]
  },
  {
   "cell_type": "code",
   "execution_count": 19,
   "id": "98dbc457",
   "metadata": {
    "execution": {
     "iopub.execute_input": "2024-01-26T02:14:17.144319Z",
     "iopub.status.busy": "2024-01-26T02:14:17.143302Z",
     "iopub.status.idle": "2024-01-26T02:14:18.071576Z",
     "shell.execute_reply": "2024-01-26T02:14:18.070264Z"
    },
    "papermill": {
     "duration": 0.95078,
     "end_time": "2024-01-26T02:14:18.074382",
     "exception": false,
     "start_time": "2024-01-26T02:14:17.123602",
     "status": "completed"
    },
    "tags": []
   },
   "outputs": [
    {
     "data": {
      "image/png": "[encoded data removed]",
      "text/plain": [
       "<Figure size 800x600 with 1 Axes>"
      ]
     },
     "metadata": {},
     "output_type": "display_data"
    }
   ],
   "source": [
    "# Pie Charts\n",
    "# Rideable Type Distribution\n",
    "rideable_type_counts = df['rideable_type'].value_counts()\n",
    "plt.figure(figsize=(8, 6))\n",
    "plt.pie(rideable_type_counts, labels=rideable_type_counts.index, autopct='%1.1f%%', startangle=140)\n",
    "plt.title('Rideable Type Distribution')\n",
    "plt.axis('equal')\n",
    "plt.show()"
   ]
  },
  {
   "cell_type": "markdown",
   "id": "36c53ffa",
   "metadata": {
    "papermill": {
     "duration": 0.018718,
     "end_time": "2024-01-26T02:14:18.117481",
     "exception": false,
     "start_time": "2024-01-26T02:14:18.098763",
     "status": "completed"
    },
    "tags": []
   },
   "source": [
    "### Ride Duration Distribution: \n",
    "\n",
    "#### Plot histograms or boxplots to show the distribution of ride durations for both member and casual riders. This can reveal insights into the typical ride lengths for each user group."
   ]
  },
  {
   "cell_type": "code",
   "execution_count": 20,
   "id": "c4b7d02c",
   "metadata": {
    "execution": {
     "iopub.execute_input": "2024-01-26T02:14:18.157789Z",
     "iopub.status.busy": "2024-01-26T02:14:18.157068Z",
     "iopub.status.idle": "2024-01-26T02:14:57.903700Z",
     "shell.execute_reply": "2024-01-26T02:14:57.902503Z"
    },
    "papermill": {
     "duration": 39.789382,
     "end_time": "2024-01-26T02:14:57.925947",
     "exception": false,
     "start_time": "2024-01-26T02:14:18.136565",
     "status": "completed"
    },
    "tags": []
   },
   "outputs": [
    {
     "data": {
      "image/png": "[encoded data removed]",
      "text/plain": [
       "<Figure size 800x600 with 1 Axes>"
      ]
     },
     "metadata": {},
     "output_type": "display_data"
    }
   ],
   "source": [
    "# Ride Duration Distribution\n",
    "plt.figure(figsize=(8, 6))\n",
    "sns.histplot(x='ride_time', hue='member_casual', data=df, bins=20, kde=True)\n",
    "plt.title('Ride Duration Distribution by User Type')\n",
    "plt.xlabel('Ride Duration (minutes)')\n",
    "plt.ylabel('Count')\n",
    "plt.show()"
   ]
  },
  {
   "cell_type": "markdown",
   "id": "cadeceff",
   "metadata": {
    "papermill": {
     "duration": 0.019986,
     "end_time": "2024-01-26T02:14:57.965713",
     "exception": false,
     "start_time": "2024-01-26T02:14:57.945727",
     "status": "completed"
    },
    "tags": []
   },
   "source": [
    "### User Type Distribution: \n",
    "#### Create a pie chart to show the distribution of user types "
   ]
  },
  {
   "cell_type": "code",
   "execution_count": 21,
   "id": "392222ae",
   "metadata": {
    "execution": {
     "iopub.execute_input": "2024-01-26T02:14:58.008005Z",
     "iopub.status.busy": "2024-01-26T02:14:58.006992Z",
     "iopub.status.idle": "2024-01-26T02:14:58.858817Z",
     "shell.execute_reply": "2024-01-26T02:14:58.857620Z"
    },
    "papermill": {
     "duration": 0.87908,
     "end_time": "2024-01-26T02:14:58.864404",
     "exception": false,
     "start_time": "2024-01-26T02:14:57.985324",
     "status": "completed"
    },
    "tags": []
   },
   "outputs": [
    {
     "data": {
      "image/png": "[encoded data removed]",
      "text/plain": [
       "<Figure size 800x600 with 1 Axes>"
      ]
     },
     "metadata": {},
     "output_type": "display_data"
    }
   ],
   "source": [
    "# User Type Distribution\n",
    "user_type_counts = df['member_casual'].value_counts()\n",
    "plt.figure(figsize=(8, 6))\n",
    "plt.pie(user_type_counts, labels=user_type_counts.index, autopct='%1.1f%%', startangle=140)\n",
    "plt.title('User Type Distribution')\n",
    "plt.axis('equal')\n",
    "plt.show()"
   ]
  },
  {
   "cell_type": "markdown",
   "id": "0263094e",
   "metadata": {
    "papermill": {
     "duration": 0.033744,
     "end_time": "2024-01-26T02:14:58.941738",
     "exception": false,
     "start_time": "2024-01-26T02:14:58.907994",
     "status": "completed"
    },
    "tags": []
   },
   "source": [
    "### Membership vs. Casual Usage Patterns: \n",
    "#### Compare the usage patterns (ride frequency, ride duration, etc.) between members and casual riders. You can use line charts or stacked bar charts to visualize these differences over time."
   ]
  },
  {
   "cell_type": "code",
   "execution_count": 22,
   "id": "35aae0d9",
   "metadata": {
    "execution": {
     "iopub.execute_input": "2024-01-26T02:14:58.985386Z",
     "iopub.status.busy": "2024-01-26T02:14:58.984621Z",
     "iopub.status.idle": "2024-01-26T02:16:31.359228Z",
     "shell.execute_reply": "2024-01-26T02:16:31.358130Z"
    },
    "papermill": {
     "duration": 92.421897,
     "end_time": "2024-01-26T02:16:31.383868",
     "exception": false,
     "start_time": "2024-01-26T02:14:58.961971",
     "status": "completed"
    },
    "tags": []
   },
   "outputs": [
    {
     "data": {
      "image/png": "[encoded data removed]",
      "text/plain": [
       "<Figure size 1000x600 with 1 Axes>"
      ]
     },
     "metadata": {},
     "output_type": "display_data"
    }
   ],
   "source": [
    "plt.figure(figsize=(10, 6))\n",
    "sns.lineplot(x='started_week_of_month', y='ride_time', hue='member_casual', data=df, err_style=None)\n",
    "plt.title('Usage Patterns by Week of Month')\n",
    "plt.xlabel('Week of Month')\n",
    "plt.ylabel('Average Ride Time (minutes)')\n",
    "plt.show()"
   ]
  },
  {
   "cell_type": "markdown",
   "id": "1d981ec5",
   "metadata": {
    "papermill": {
     "duration": 0.021961,
     "end_time": "2024-01-26T02:16:31.428122",
     "exception": false,
     "start_time": "2024-01-26T02:16:31.406161",
     "status": "completed"
    },
    "tags": []
   },
   "source": [
    "### Average Ride Time by Rideable Type: \n",
    "#### Plot a line graph to show the average ride time for each rideable type."
   ]
  },
  {
   "cell_type": "code",
   "execution_count": 23,
   "id": "14701513",
   "metadata": {
    "execution": {
     "iopub.execute_input": "2024-01-26T02:16:31.473494Z",
     "iopub.status.busy": "2024-01-26T02:16:31.472738Z",
     "iopub.status.idle": "2024-01-26T02:16:32.268509Z",
     "shell.execute_reply": "2024-01-26T02:16:32.267340Z"
    },
    "papermill": {
     "duration": 0.821791,
     "end_time": "2024-01-26T02:16:32.271199",
     "exception": false,
     "start_time": "2024-01-26T02:16:31.449408",
     "status": "completed"
    },
    "tags": []
   },
   "outputs": [
    {
     "data": {
      "image/png": "[encoded data removed]",
      "text/plain": [
       "<Figure size 1000x600 with 1 Axes>"
      ]
     },
     "metadata": {},
     "output_type": "display_data"
    }
   ],
   "source": [
    "# Average Ride Time by Rideable Type\n",
    "plt.figure(figsize=(10, 6))\n",
    "average_ride_time_by_type = df.groupby('rideable_type')['ride_time'].mean()\n",
    "plt.plot(average_ride_time_by_type.index, average_ride_time_by_type.values, marker='o', linestyle='-')\n",
    "plt.title('Average Ride Time by Rideable Type')\n",
    "plt.xlabel('Rideable Type')\n",
    "plt.ylabel('Average Ride Time (minutes)')\n",
    "plt.grid(True)\n",
    "plt.show()"
   ]
  },
  {
   "cell_type": "markdown",
   "id": "eb19a650",
   "metadata": {
    "papermill": {
     "duration": 0.022077,
     "end_time": "2024-01-26T02:16:32.315514",
     "exception": false,
     "start_time": "2024-01-26T02:16:32.293437",
     "status": "completed"
    },
    "tags": []
   },
   "source": [
    "### Trend Analysis by Week of Month: \n",
    "#### Investigate how ride volumes vary throughout the month by analyzing trends based on the week of the month. This could involve creating line charts showing ride counts or durations over different weeks."
   ]
  },
  {
   "cell_type": "code",
   "execution_count": 24,
   "id": "edba4838",
   "metadata": {
    "execution": {
     "iopub.execute_input": "2024-01-26T02:16:32.361266Z",
     "iopub.status.busy": "2024-01-26T02:16:32.360799Z",
     "iopub.status.idle": "2024-01-26T02:16:33.574824Z",
     "shell.execute_reply": "2024-01-26T02:16:33.573781Z"
    },
    "papermill": {
     "duration": 1.240682,
     "end_time": "2024-01-26T02:16:33.578016",
     "exception": false,
     "start_time": "2024-01-26T02:16:32.337334",
     "status": "completed"
    },
    "tags": []
   },
   "outputs": [
    {
     "data": {
      "image/png": "[encoded data removed]",
      "text/plain": [
       "<Figure size 1000x600 with 2 Axes>"
      ]
     },
     "metadata": {},
     "output_type": "display_data"
    }
   ],
   "source": [
    "\n",
    "# Group the data by week of the month and calculate ride counts and total ride duration\n",
    "weekly_stats = df.groupby('started_week_of_month').agg({'ride_id': 'count', 'ride_time': 'sum'})\n",
    "\n",
    "# Plot the trend analysis using line charts\n",
    "plt.figure(figsize=(10, 6))\n",
    "\n",
    "# Plot ride counts over different weeks\n",
    "plt.subplot(2, 1, 1)  # Subplot for ride counts\n",
    "plt.plot(weekly_stats.index, weekly_stats['ride_id'], marker='o', linestyle='-')\n",
    "plt.title('Ride Counts by Week of the Month')\n",
    "plt.xlabel('Week of the Month')\n",
    "plt.ylabel('Ride Count')\n",
    "plt.grid(True)\n",
    "\n",
    "# Plot total ride duration over different weeks\n",
    "plt.subplot(2, 1, 2)  # Subplot for total ride duration\n",
    "plt.plot(weekly_stats.index, weekly_stats['ride_time'], marker='o', linestyle='-')\n",
    "plt.title('Total Ride Duration by Week of the Month')\n",
    "plt.xlabel('Week of the Month')\n",
    "plt.ylabel('Total Ride Duration (minutes)')\n",
    "plt.grid(True)\n",
    "\n",
    "plt.tight_layout()  # Adjust layout to prevent overlapping labels\n",
    "plt.show()"
   ]
  },
  {
   "cell_type": "markdown",
   "id": "9062608e",
   "metadata": {
    "papermill": {
     "duration": 0.022593,
     "end_time": "2024-01-26T02:16:33.624695",
     "exception": false,
     "start_time": "2024-01-26T02:16:33.602102",
     "status": "completed"
    },
    "tags": []
   },
   "source": [
    "### Most used Station:\n",
    "#### Use map to find the most used station depending on the frequncy of the station"
   ]
  },
  {
   "cell_type": "code",
   "execution_count": 25,
   "id": "479457e8",
   "metadata": {
    "execution": {
     "iopub.execute_input": "2024-01-26T02:16:33.674910Z",
     "iopub.status.busy": "2024-01-26T02:16:33.674502Z",
     "iopub.status.idle": "2024-01-26T02:16:37.095075Z",
     "shell.execute_reply": "2024-01-26T02:16:37.094003Z"
    },
    "papermill": {
     "duration": 3.447996,
     "end_time": "2024-01-26T02:16:37.097456",
     "exception": false,
     "start_time": "2024-01-26T02:16:33.649460",
     "status": "completed"
    },
    "tags": []
   },
   "outputs": [
    {
     "data": {
      "text/html": [
       "<div style=\"width:100%;\"><div style=\"position:relative;width:100%;height:0;padding-bottom:60%;\"><span style=\"color:#565656\">Make this Notebook Trusted to load map: File -> Trust Notebook</span><iframe srcdoc=\"&lt;!DOCTYPE html&gt;\n",
       "&lt;html&gt;\n",
       "&lt;head&gt;\n",
       "    \n",
       "    &lt;meta http-equiv=&quot;content-type&quot; content=&quot;text/html; charset=UTF-8&quot; /&gt;\n",
       "    \n",
       "        &lt;script&gt;\n",
       "            L_NO_TOUCH = false;\n",
       "            L_DISABLE_3D = false;\n",
       "        &lt;/script&gt;\n",
       "    \n",
       "    &lt;style&gt;html, body {width: 100%;height: 100%;margin: 0;padding: 0;}&lt;/style&gt;\n",
       "    &lt;style&gt;#map {position:absolute;top:0;bottom:0;right:0;left:0;}&lt;/style&gt;\n",
       "    &lt;script src=&quot;https://cdn.jsdelivr.net/npm/leaflet@1.9.3/dist/leaflet.js&quot;&gt;&lt;/script&gt;\n",
       "    &lt;script src=&quot;https://code.jquery.com/jquery-3.7.1.min.js&quot;&gt;&lt;/script&gt;\n",
       "    &lt;script src=&quot;https://cdn.jsdelivr.net/npm/bootstrap@5.2.2/dist/js/bootstrap.bundle.min.js&quot;&gt;&lt;/script&gt;\n",
       "    &lt;script src=&quot;https://cdnjs.cloudflare.com/ajax/libs/Leaflet.awesome-markers/2.0.2/leaflet.awesome-markers.js&quot;&gt;&lt;/script&gt;\n",
       "    &lt;link rel=&quot;stylesheet&quot; href=&quot;https://cdn.jsdelivr.net/npm/leaflet@1.9.3/dist/leaflet.css&quot;/&gt;\n",
       "    &lt;link rel=&quot;stylesheet&quot; href=&quot;https://cdn.jsdelivr.net/npm/bootstrap@5.2.2/dist/css/bootstrap.min.css&quot;/&gt;\n",
       "    &lt;link rel=&quot;stylesheet&quot; href=&quot;https://netdna.bootstrapcdn.com/bootstrap/3.0.0/css/bootstrap.min.css&quot;/&gt;\n",
       "    &lt;link rel=&quot;stylesheet&quot; href=&quot;https://cdn.jsdelivr.net/npm/@fortawesome/fontawesome-free@6.2.0/css/all.min.css&quot;/&gt;\n",
       "    &lt;link rel=&quot;stylesheet&quot; href=&quot;https://cdnjs.cloudflare.com/ajax/libs/Leaflet.awesome-markers/2.0.2/leaflet.awesome-markers.css&quot;/&gt;\n",
       "    &lt;link rel=&quot;stylesheet&quot; href=&quot;https://cdn.jsdelivr.net/gh/python-visualization/folium/folium/templates/leaflet.awesome.rotate.min.css&quot;/&gt;\n",
       "    \n",
       "            &lt;meta name=&quot;viewport&quot; content=&quot;width=device-width,\n",
       "                initial-scale=1.0, maximum-scale=1.0, user-scalable=no&quot; /&gt;\n",
       "            &lt;style&gt;\n",
       "                #map_be79ccd9c3962ba7d66c273dad283ab7 {\n",
       "                    position: relative;\n",
       "                    width: 100.0%;\n",
       "                    height: 100.0%;\n",
       "                    left: 0.0%;\n",
       "                    top: 0.0%;\n",
       "                }\n",
       "                .leaflet-container { font-size: 1rem; }\n",
       "            &lt;/style&gt;\n",
       "        \n",
       "&lt;/head&gt;\n",
       "&lt;body&gt;\n",
       "    \n",
       "    \n",
       "            &lt;div class=&quot;folium-map&quot; id=&quot;map_be79ccd9c3962ba7d66c273dad283ab7&quot; &gt;&lt;/div&gt;\n",
       "        \n",
       "&lt;/body&gt;\n",
       "&lt;script&gt;\n",
       "    \n",
       "    \n",
       "            var map_be79ccd9c3962ba7d66c273dad283ab7 = L.map(\n",
       "                &quot;map_be79ccd9c3962ba7d66c273dad283ab7&quot;,\n",
       "                {\n",
       "                    center: [41.90357477218104, -87.64424513567597],\n",
       "                    crs: L.CRS.EPSG3857,\n",
       "                    zoom: 10,\n",
       "                    zoomControl: true,\n",
       "                    preferCanvas: false,\n",
       "                }\n",
       "            );\n",
       "\n",
       "            \n",
       "\n",
       "        \n",
       "    \n",
       "            var tile_layer_3a6a62b2602da243552c2d3670d9c25e = L.tileLayer(\n",
       "                &quot;https://tile.openstreetmap.org/{z}/{x}/{y}.png&quot;,\n",
       "                {&quot;attribution&quot;: &quot;\\u0026copy; \\u003ca href=\\&quot;https://www.openstreetmap.org/copyright\\&quot;\\u003eOpenStreetMap\\u003c/a\\u003e contributors&quot;, &quot;detectRetina&quot;: false, &quot;maxNativeZoom&quot;: 19, &quot;maxZoom&quot;: 19, &quot;minZoom&quot;: 0, &quot;noWrap&quot;: false, &quot;opacity&quot;: 1, &quot;subdomains&quot;: &quot;abc&quot;, &quot;tms&quot;: false}\n",
       "            );\n",
       "        \n",
       "    \n",
       "            tile_layer_3a6a62b2602da243552c2d3670d9c25e.addTo(map_be79ccd9c3962ba7d66c273dad283ab7);\n",
       "        \n",
       "    \n",
       "            var tile_layer_4bd44cbd6305ded128fa6e45fe259241 = L.tileLayer(\n",
       "                &quot;https://tile.openstreetmap.org/{z}/{x}/{y}.png&quot;,\n",
       "                {&quot;attribution&quot;: &quot;\\u0026copy; \\u003ca href=\\&quot;https://www.openstreetmap.org/copyright\\&quot;\\u003eOpenStreetMap\\u003c/a\\u003e contributors&quot;, &quot;detectRetina&quot;: false, &quot;maxNativeZoom&quot;: 19, &quot;maxZoom&quot;: 19, &quot;minZoom&quot;: 0, &quot;noWrap&quot;: false, &quot;opacity&quot;: 1, &quot;subdomains&quot;: &quot;abc&quot;, &quot;tms&quot;: false}\n",
       "            );\n",
       "        \n",
       "    \n",
       "            tile_layer_4bd44cbd6305ded128fa6e45fe259241.addTo(map_be79ccd9c3962ba7d66c273dad283ab7);\n",
       "        \n",
       "&lt;/script&gt;\n",
       "&lt;/html&gt;\" style=\"position:absolute;width:100%;height:100%;left:0;top:0;border:none !important;\" allowfullscreen webkitallowfullscreen mozallowfullscreen></iframe></div></div>"
      ],
      "text/plain": [
       "<folium.folium.Map at 0x7c00e15fdd20>"
      ]
     },
     "execution_count": 25,
     "metadata": {},
     "output_type": "execute_result"
    }
   ],
   "source": [
    "import folium\n",
    "\n",
    "# Define the sampling ratio (e.g., 0.1 for 10% of the data)\n",
    "sampling_ratio = 0.6\n",
    "\n",
    "# Downsample the DataFrame\n",
    "downsampled_df = combined_df.sample(frac=sampling_ratio, random_state=42)\n",
    "\n",
    "# Create a map centered at the mean latitude and longitude of the downsampled data\n",
    "center_lat = downsampled_df['start_lat'].mean()\n",
    "center_lon = downsampled_df['start_lng'].mean()\n",
    "m = folium.Map(location=[center_lat, center_lon], zoom_start=10)\n",
    "\n",
    "# Add a tile layer from a tileset (OpenStreetMap)\n",
    "folium.TileLayer('openstreetmap').add_to(m)\n",
    "\n",
    "# Save or display the map\n",
    "m"
   ]
  },
  {
   "cell_type": "markdown",
   "id": "70485d5a",
   "metadata": {
    "papermill": {
     "duration": 0.023392,
     "end_time": "2024-01-26T02:16:37.144162",
     "exception": false,
     "start_time": "2024-01-26T02:16:37.120770",
     "status": "completed"
    },
    "tags": []
   },
   "source": [
    "# 6. Act"
   ]
  },
  {
   "cell_type": "markdown",
   "id": "8d532386",
   "metadata": {
    "papermill": {
     "duration": 0.022928,
     "end_time": "2024-01-26T02:16:37.190696",
     "exception": false,
     "start_time": "2024-01-26T02:16:37.167768",
     "status": "completed"
    },
    "tags": []
   },
   "source": [
    "## This case study reveles following important details;\n",
    "\n",
    "\n",
    "#### Most used bikes are classical bikes, Members use most of the bikes, Docked bikes are used by casual users\n",
    "#### Average ride time of the casual users are always higher than the members\n",
    "#### The average ride time in week 5 of every month is less for both casual and members\n",
    "#### The average ride time of Docked bikes are higher than the other two"
   ]
  }
 ],
 "metadata": {
  "kaggle": {
   "accelerator": "none",
   "dataSources": [
    {
     "datasetId": 4353994,
     "sourceId": 7479787,
     "sourceType": "datasetVersion"
    }
   ],
   "dockerImageVersionId": 30635,
   "isGpuEnabled": false,
   "isInternetEnabled": true,
   "language": "python",
   "sourceType": "notebook"
  },
  "kernelspec": {
   "display_name": "Python 3",
   "language": "python",
   "name": "python3"
  },
  "language_info": {
   "codemirror_mode": {
    "name": "ipython",
    "version": 3
   },
   "file_extension": ".py",
   "mimetype": "text/x-python",
   "name": "python",
   "nbconvert_exporter": "python",
   "pygments_lexer": "ipython3",
   "version": "3.10.12"
  },
  "papermill": {
   "default_parameters": {},
   "duration": 359.164102,
   "end_time": "2024-01-26T02:16:39.837531",
   "environment_variables": {},
   "exception": null,
   "input_path": "__notebook__.ipynb",
   "output_path": "__notebook__.ipynb",
   "parameters": {},
   "start_time": "2024-01-26T02:10:40.673429",
   "version": "2.4.0"
  }
 },
 "nbformat": 4,
 "nbformat_minor": 5
}
